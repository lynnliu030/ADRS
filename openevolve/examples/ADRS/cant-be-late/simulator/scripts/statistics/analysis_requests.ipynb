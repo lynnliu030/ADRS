{
 "cells": [
  {
   "cell_type": "code",
   "execution_count": 4,
   "metadata": {},
   "outputs": [],
   "source": [
    "import json\n",
    "import pathlib\n",
    "\n",
    "import numpy as np\n",
    "\n",
    "from scripts.utils import *\n",
    "\n",
    "TRACE = 'real'\n",
    "\n",
    "TRACE_NAME = TRACE_NAMES[TRACE]\n",
    "TRACE_DIR = TRACE_DIRS[TRACE]\n",
    "TRACE_TYPE = TRACE_TYPES[TRACE]\n",
    "\n",
    "OVERHEADS = [0.1]\n",
    "\n",
    "DDL = 52\n",
    "DDL_GAPS = 52 * 3600 // 600\n"
   ]
  },
  {
   "cell_type": "code",
   "execution_count": 5,
   "metadata": {},
   "outputs": [],
   "source": [
    "overhead = 0.1\n",
    "sliced_interval = 4.0\n",
    "algorithm = 'loose_time_sliced'\n",
    "\n",
    "slice_gap = sliced_interval * 3600 // 600\n",
    "\n",
    "\n",
    "EXP_PATH = EXP_DIR / TRACE_NAME.format(overhead=overhead)\n",
    "RESULT_PATH = RESULT_DIR / (TRACE_NAME.format(overhead=overhead) + '.json')\n",
    "TRACE_PATH = TRACE_DIR / TRACE_TYPE\n",
    "file_name = f'-trace-{TRACE_TYPE}-ddl=*-dur=48.0-over={overhead}'\n",
    "\n",
    "alg_trace = list(EXP_PATH.glob(f'{algorithm}_{sliced_interval:.1f}h{file_name}'))[0]\n",
    "\n",
    "trace = json.load(alg_trace.open('r'))\n",
    "request_traces = [[int(i['RequestType'] - 1) for i in h[1:]] for h in trace['history']]\n",
    "for i, r in enumerate(request_traces):\n",
    "    r = r[:DDL_GAPS]\n",
    "    if len(r) < DDL_GAPS:\n",
    "        r += [0] * (DDL_GAPS - len(r))\n",
    "    request_traces[i] = r\n",
    "request_traces = np.array(request_traces)"
   ]
  },
  {
   "cell_type": "code",
   "execution_count": 10,
   "metadata": {},
   "outputs": [],
   "source": [
    "slice_gap = int(sliced_interval * 3600 // 600)\n",
    "sliced = request_traces.reshape(len(request_traces), -1, slice_gap)"
   ]
  },
  {
   "cell_type": "code",
   "execution_count": 11,
   "metadata": {},
   "outputs": [
    {
     "data": {
      "text/plain": [
       "array([[ 0,  2, 18, ...,  0, 14,  0],\n",
       "       [ 0,  3,  8, ...,  0,  0,  0],\n",
       "       [ 0,  0,  0, ...,  9, 24, 12],\n",
       "       ...,\n",
       "       [ 0,  0,  0, ...,  0,  0,  0],\n",
       "       [ 1,  0,  0, ..., 11,  6, 23],\n",
       "       [ 0,  0,  0, ...,  0,  0,  0]])"
      ]
     },
     "execution_count": 11,
     "metadata": {},
     "output_type": "execute_result"
    }
   ],
   "source": [
    "(sliced > 1).sum(-1)"
   ]
  }
 ],
 "metadata": {
  "kernelspec": {
   "display_name": "sky-dev",
   "language": "python",
   "name": "python3"
  },
  "language_info": {
   "codemirror_mode": {
    "name": "ipython",
    "version": 3
   },
   "file_extension": ".py",
   "mimetype": "text/x-python",
   "name": "python",
   "nbconvert_exporter": "python",
   "pygments_lexer": "ipython3",
   "version": "3.8.13"
  },
  "orig_nbformat": 4
 },
 "nbformat": 4,
 "nbformat_minor": 2
}
